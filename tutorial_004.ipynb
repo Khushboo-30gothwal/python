{
  "nbformat": 4,
  "nbformat_minor": 0,
  "metadata": {
    "colab": {
      "provenance": [],
      "authorship_tag": "ABX9TyNjUFKXGrXx5ZA17iUA03c3",
      "include_colab_link": true
    },
    "kernelspec": {
      "name": "python3",
      "display_name": "Python 3"
    },
    "language_info": {
      "name": "python"
    }
  },
  "cells": [
    {
      "cell_type": "markdown",
      "metadata": {
        "id": "view-in-github",
        "colab_type": "text"
      },
      "source": [
        "<a href=\"https://colab.research.google.com/github/Khushboo-30gothwal/python/blob/main/tutorial_004.ipynb\" target=\"_parent\"><img src=\"https://colab.research.google.com/assets/colab-badge.svg\" alt=\"Open In Colab\"/></a>"
      ]
    },
    {
      "cell_type": "markdown",
      "source": [
        "# mini-batches"
      ],
      "metadata": {
        "id": "tC5t5WzWynmP"
      }
    },
    {
      "cell_type": "code",
      "source": [
        "import torch\n",
        "!pip install torch_geometric"
      ],
      "metadata": {
        "colab": {
          "base_uri": "https://localhost:8080/"
        },
        "collapsed": true,
        "id": "4YRBScuFzAqh",
        "outputId": "42847b14-e4f2-4b0e-8af1-9e46f1a66141"
      },
      "execution_count": 6,
      "outputs": [
        {
          "output_type": "stream",
          "name": "stdout",
          "text": [
            "Collecting torch_geometric\n",
            "  Downloading torch_geometric-2.5.3-py3-none-any.whl (1.1 MB)\n",
            "\u001b[2K     \u001b[90m━━━━━━━━━━━━━━━━━━━━━━━━━━━━━━━━━━━━━━━━\u001b[0m \u001b[32m1.1/1.1 MB\u001b[0m \u001b[31m8.0 MB/s\u001b[0m eta \u001b[36m0:00:00\u001b[0m\n",
            "\u001b[?25hRequirement already satisfied: tqdm in /usr/local/lib/python3.10/dist-packages (from torch_geometric) (4.66.4)\n",
            "Requirement already satisfied: numpy in /usr/local/lib/python3.10/dist-packages (from torch_geometric) (1.25.2)\n",
            "Requirement already satisfied: scipy in /usr/local/lib/python3.10/dist-packages (from torch_geometric) (1.11.4)\n",
            "Requirement already satisfied: fsspec in /usr/local/lib/python3.10/dist-packages (from torch_geometric) (2023.6.0)\n",
            "Requirement already satisfied: jinja2 in /usr/local/lib/python3.10/dist-packages (from torch_geometric) (3.1.4)\n",
            "Requirement already satisfied: aiohttp in /usr/local/lib/python3.10/dist-packages (from torch_geometric) (3.9.5)\n",
            "Requirement already satisfied: requests in /usr/local/lib/python3.10/dist-packages (from torch_geometric) (2.31.0)\n",
            "Requirement already satisfied: pyparsing in /usr/local/lib/python3.10/dist-packages (from torch_geometric) (3.1.2)\n",
            "Requirement already satisfied: scikit-learn in /usr/local/lib/python3.10/dist-packages (from torch_geometric) (1.2.2)\n",
            "Requirement already satisfied: psutil>=5.8.0 in /usr/local/lib/python3.10/dist-packages (from torch_geometric) (5.9.5)\n",
            "Requirement already satisfied: aiosignal>=1.1.2 in /usr/local/lib/python3.10/dist-packages (from aiohttp->torch_geometric) (1.3.1)\n",
            "Requirement already satisfied: attrs>=17.3.0 in /usr/local/lib/python3.10/dist-packages (from aiohttp->torch_geometric) (23.2.0)\n",
            "Requirement already satisfied: frozenlist>=1.1.1 in /usr/local/lib/python3.10/dist-packages (from aiohttp->torch_geometric) (1.4.1)\n",
            "Requirement already satisfied: multidict<7.0,>=4.5 in /usr/local/lib/python3.10/dist-packages (from aiohttp->torch_geometric) (6.0.5)\n",
            "Requirement already satisfied: yarl<2.0,>=1.0 in /usr/local/lib/python3.10/dist-packages (from aiohttp->torch_geometric) (1.9.4)\n",
            "Requirement already satisfied: async-timeout<5.0,>=4.0 in /usr/local/lib/python3.10/dist-packages (from aiohttp->torch_geometric) (4.0.3)\n",
            "Requirement already satisfied: MarkupSafe>=2.0 in /usr/local/lib/python3.10/dist-packages (from jinja2->torch_geometric) (2.1.5)\n",
            "Requirement already satisfied: charset-normalizer<4,>=2 in /usr/local/lib/python3.10/dist-packages (from requests->torch_geometric) (3.3.2)\n",
            "Requirement already satisfied: idna<4,>=2.5 in /usr/local/lib/python3.10/dist-packages (from requests->torch_geometric) (3.7)\n",
            "Requirement already satisfied: urllib3<3,>=1.21.1 in /usr/local/lib/python3.10/dist-packages (from requests->torch_geometric) (2.0.7)\n",
            "Requirement already satisfied: certifi>=2017.4.17 in /usr/local/lib/python3.10/dist-packages (from requests->torch_geometric) (2024.6.2)\n",
            "Requirement already satisfied: joblib>=1.1.1 in /usr/local/lib/python3.10/dist-packages (from scikit-learn->torch_geometric) (1.4.2)\n",
            "Requirement already satisfied: threadpoolctl>=2.0.0 in /usr/local/lib/python3.10/dist-packages (from scikit-learn->torch_geometric) (3.5.0)\n",
            "Installing collected packages: torch_geometric\n",
            "Successfully installed torch_geometric-2.5.3\n"
          ]
        }
      ]
    },
    {
      "cell_type": "code",
      "execution_count": 11,
      "metadata": {
        "id": "VsdUWYp-yi7K"
      },
      "outputs": [],
      "source": [
        "from torch_geometric.datasets import TUDataset\n",
        "from torch_geometric.loader import DataLoader"
      ]
    },
    {
      "cell_type": "code",
      "source": [
        "dataset = TUDataset(root='/tmp/ENZYMES', name='ENZYMES', use_node_attr=True)\n",
        "loader = DataLoader(dataset, batch_size=32, shuffle=True)"
      ],
      "metadata": {
        "colab": {
          "base_uri": "https://localhost:8080/"
        },
        "id": "CJYexCA_0exZ",
        "outputId": "41c16287-f7ca-4124-ddd5-62d41fa8d31a"
      },
      "execution_count": 12,
      "outputs": [
        {
          "output_type": "stream",
          "name": "stderr",
          "text": [
            "Downloading https://www.chrsmrrs.com/graphkerneldatasets/ENZYMES.zip\n",
            "Processing...\n",
            "Done!\n"
          ]
        }
      ]
    },
    {
      "cell_type": "markdown",
      "source": [
        "***torch_geometric.data.Batch*** inherits from ***torch_geometric.data.Data*** and contains an additional attribute called ***batch***: an column vector"
      ],
      "metadata": {
        "id": "yMEut7Gs18at"
      }
    },
    {
      "cell_type": "code",
      "source": [
        "for batch in loader:\n",
        "  batch\n",
        "  print(batch)"
      ],
      "metadata": {
        "colab": {
          "base_uri": "https://localhost:8080/"
        },
        "collapsed": true,
        "id": "nGT_q_RL1YJU",
        "outputId": "2b61a0dc-4cf3-4163-ea96-3a2f265291a0"
      },
      "execution_count": 13,
      "outputs": [
        {
          "output_type": "stream",
          "name": "stdout",
          "text": [
            "DataBatch(edge_index=[2, 4006], x=[1006, 21], y=[32], batch=[1006], ptr=[33])\n",
            "DataBatch(edge_index=[2, 4196], x=[1133, 21], y=[32], batch=[1133], ptr=[33])\n",
            "DataBatch(edge_index=[2, 4076], x=[1069, 21], y=[32], batch=[1069], ptr=[33])\n",
            "DataBatch(edge_index=[2, 4190], x=[1057, 21], y=[32], batch=[1057], ptr=[33])\n",
            "DataBatch(edge_index=[2, 4346], x=[1140, 21], y=[32], batch=[1140], ptr=[33])\n",
            "DataBatch(edge_index=[2, 3922], x=[1025, 21], y=[32], batch=[1025], ptr=[33])\n",
            "DataBatch(edge_index=[2, 4124], x=[1022, 21], y=[32], batch=[1022], ptr=[33])\n",
            "DataBatch(edge_index=[2, 4154], x=[1064, 21], y=[32], batch=[1064], ptr=[33])\n",
            "DataBatch(edge_index=[2, 4468], x=[1166, 21], y=[32], batch=[1166], ptr=[33])\n",
            "DataBatch(edge_index=[2, 3746], x=[993, 21], y=[32], batch=[993], ptr=[33])\n",
            "DataBatch(edge_index=[2, 4004], x=[1029, 21], y=[32], batch=[1029], ptr=[33])\n",
            "DataBatch(edge_index=[2, 3458], x=[907, 21], y=[32], batch=[907], ptr=[33])\n",
            "DataBatch(edge_index=[2, 3594], x=[940, 21], y=[32], batch=[940], ptr=[33])\n",
            "DataBatch(edge_index=[2, 3944], x=[1080, 21], y=[32], batch=[1080], ptr=[33])\n",
            "DataBatch(edge_index=[2, 3598], x=[920, 21], y=[32], batch=[920], ptr=[33])\n",
            "DataBatch(edge_index=[2, 4112], x=[1077, 21], y=[32], batch=[1077], ptr=[33])\n",
            "DataBatch(edge_index=[2, 4170], x=[1182, 21], y=[32], batch=[1182], ptr=[33])\n",
            "DataBatch(edge_index=[2, 3590], x=[982, 21], y=[32], batch=[982], ptr=[33])\n",
            "DataBatch(edge_index=[2, 2866], x=[788, 21], y=[24], batch=[788], ptr=[25])\n"
          ]
        }
      ]
    },
    {
      "cell_type": "code",
      "source": [
        "batch.num_graphs"
      ],
      "metadata": {
        "colab": {
          "base_uri": "https://localhost:8080/"
        },
        "id": "btrbnckF1zRM",
        "outputId": "b6855c8b-d63a-4a23-f4dd-ef25d555d1f8"
      },
      "execution_count": 15,
      "outputs": [
        {
          "output_type": "execute_result",
          "data": {
            "text/plain": [
              "24"
            ]
          },
          "metadata": {},
          "execution_count": 15
        }
      ]
    },
    {
      "cell_type": "markdown",
      "source": [
        "using average node features in node dimension for each graph individually"
      ],
      "metadata": {
        "id": "_atUHkQw2ZH_"
      }
    },
    {
      "cell_type": "code",
      "source": [
        "from torch_geometric.utils import scatter\n",
        "from torch_geometric.datasets import TUDataset\n",
        "from torch_geometric.loader import DataLoader"
      ],
      "metadata": {
        "id": "it0sfSMY2hik"
      },
      "execution_count": 17,
      "outputs": []
    },
    {
      "cell_type": "code",
      "source": [
        "dataset = TUDataset(root='/tmp/ENZYMES', name='ENZYMES', use_node_attr=True)\n",
        "loader = DataLoader(dataset, batch_size=32, shuffle=True)"
      ],
      "metadata": {
        "id": "9v4qBeQB23Wx"
      },
      "execution_count": 19,
      "outputs": []
    },
    {
      "cell_type": "code",
      "source": [
        "for data in loader:\n",
        "  data\n",
        "  print(data)"
      ],
      "metadata": {
        "colab": {
          "base_uri": "https://localhost:8080/"
        },
        "collapsed": true,
        "id": "wy8WSgHw3NDN",
        "outputId": "a4a3bc7b-7656-4495-e0ea-5cd30bfc1e1a"
      },
      "execution_count": 22,
      "outputs": [
        {
          "output_type": "stream",
          "name": "stdout",
          "text": [
            "DataBatch(edge_index=[2, 4594], x=[1170, 21], y=[32], batch=[1170], ptr=[33])\n",
            "DataBatch(edge_index=[2, 3990], x=[1067, 21], y=[32], batch=[1067], ptr=[33])\n",
            "DataBatch(edge_index=[2, 3592], x=[1001, 21], y=[32], batch=[1001], ptr=[33])\n",
            "DataBatch(edge_index=[2, 3712], x=[1000, 21], y=[32], batch=[1000], ptr=[33])\n",
            "DataBatch(edge_index=[2, 3762], x=[957, 21], y=[32], batch=[957], ptr=[33])\n",
            "DataBatch(edge_index=[2, 4418], x=[1173, 21], y=[32], batch=[1173], ptr=[33])\n",
            "DataBatch(edge_index=[2, 3884], x=[994, 21], y=[32], batch=[994], ptr=[33])\n",
            "DataBatch(edge_index=[2, 4180], x=[1075, 21], y=[32], batch=[1075], ptr=[33])\n",
            "DataBatch(edge_index=[2, 3742], x=[972, 21], y=[32], batch=[972], ptr=[33])\n",
            "DataBatch(edge_index=[2, 3626], x=[943, 21], y=[32], batch=[943], ptr=[33])\n",
            "DataBatch(edge_index=[2, 4084], x=[1083, 21], y=[32], batch=[1083], ptr=[33])\n",
            "DataBatch(edge_index=[2, 4168], x=[1048, 21], y=[32], batch=[1048], ptr=[33])\n",
            "DataBatch(edge_index=[2, 3894], x=[1004, 21], y=[32], batch=[1004], ptr=[33])\n",
            "DataBatch(edge_index=[2, 4236], x=[1099, 21], y=[32], batch=[1099], ptr=[33])\n",
            "DataBatch(edge_index=[2, 4038], x=[1081, 21], y=[32], batch=[1081], ptr=[33])\n",
            "DataBatch(edge_index=[2, 4198], x=[1067, 21], y=[32], batch=[1067], ptr=[33])\n",
            "DataBatch(edge_index=[2, 4302], x=[1207, 21], y=[32], batch=[1207], ptr=[33])\n",
            "DataBatch(edge_index=[2, 3612], x=[986, 21], y=[32], batch=[986], ptr=[33])\n",
            "DataBatch(edge_index=[2, 2532], x=[653, 21], y=[24], batch=[653], ptr=[25])\n"
          ]
        }
      ]
    },
    {
      "cell_type": "code",
      "source": [
        "data.num_graphs"
      ],
      "metadata": {
        "colab": {
          "base_uri": "https://localhost:8080/"
        },
        "id": "5L4K8YM93c4g",
        "outputId": "773884ff-a541-41e1-9e76-4bcc6f9471ca"
      },
      "execution_count": 23,
      "outputs": [
        {
          "output_type": "execute_result",
          "data": {
            "text/plain": [
              "24"
            ]
          },
          "metadata": {},
          "execution_count": 23
        }
      ]
    },
    {
      "cell_type": "code",
      "source": [
        "x=scatter(data.x, data.batch, dim=0, reduce='mean')\n",
        "x.size()"
      ],
      "metadata": {
        "colab": {
          "base_uri": "https://localhost:8080/"
        },
        "id": "T_2PJRLO3gLV",
        "outputId": "146e31ba-a02b-4a09-d70d-71ebd07fa890"
      },
      "execution_count": 24,
      "outputs": [
        {
          "output_type": "execute_result",
          "data": {
            "text/plain": [
              "torch.Size([24, 21])"
            ]
          },
          "metadata": {},
          "execution_count": 24
        }
      ]
    }
  ]
}