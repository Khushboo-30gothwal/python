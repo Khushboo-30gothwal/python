{
  "nbformat": 4,
  "nbformat_minor": 0,
  "metadata": {
    "colab": {
      "provenance": []
    },
    "kernelspec": {
      "name": "python3",
      "display_name": "Python 3"
    },
    "language_info": {
      "name": "python"
    }
  },
  "cells": [
    {
      "cell_type": "code",
      "execution_count": 1,
      "metadata": {
        "id": "W5DMnVErG03c"
      },
      "outputs": [],
      "source": [
        "import torch\n",
        "import torchvision.transforms as transforms\n",
        "from torchvision import datasets\n",
        "from torch.utils.data import DataLoader\n",
        "import matplotlib.pyplot as plt"
      ]
    },
    {
      "cell_type": "code",
      "source": [
        "# loading training data\n",
        "train_dataset = datasets.MNIST(root='./data',\n",
        "                               train=True,\n",
        "                               transform=transforms.ToTensor(),\n",
        "                               download=True)\n",
        "# loading test data\n",
        "test_dataset = datasets.MNIST(root='./data',\n",
        "                              train=False,\n",
        "                              transform=transforms.ToTensor())"
      ],
      "metadata": {
        "colab": {
          "base_uri": "https://localhost:8080/"
        },
        "collapsed": true,
        "id": "FAqSNIuAIEFG",
        "outputId": "4330c388-0d68-4eb4-bfce-a07b80cd9fc7"
      },
      "execution_count": 2,
      "outputs": [
        {
          "output_type": "stream",
          "name": "stdout",
          "text": [
            "Downloading http://yann.lecun.com/exdb/mnist/train-images-idx3-ubyte.gz\n",
            "Failed to download (trying next):\n",
            "HTTP Error 403: Forbidden\n",
            "\n",
            "Downloading https://ossci-datasets.s3.amazonaws.com/mnist/train-images-idx3-ubyte.gz\n",
            "Downloading https://ossci-datasets.s3.amazonaws.com/mnist/train-images-idx3-ubyte.gz to ./data/MNIST/raw/train-images-idx3-ubyte.gz\n"
          ]
        },
        {
          "output_type": "stream",
          "name": "stderr",
          "text": [
            "100%|██████████| 9912422/9912422 [00:00<00:00, 14285855.59it/s]\n"
          ]
        },
        {
          "output_type": "stream",
          "name": "stdout",
          "text": [
            "Extracting ./data/MNIST/raw/train-images-idx3-ubyte.gz to ./data/MNIST/raw\n",
            "\n",
            "Downloading http://yann.lecun.com/exdb/mnist/train-labels-idx1-ubyte.gz\n",
            "Failed to download (trying next):\n",
            "HTTP Error 403: Forbidden\n",
            "\n",
            "Downloading https://ossci-datasets.s3.amazonaws.com/mnist/train-labels-idx1-ubyte.gz\n",
            "Downloading https://ossci-datasets.s3.amazonaws.com/mnist/train-labels-idx1-ubyte.gz to ./data/MNIST/raw/train-labels-idx1-ubyte.gz\n"
          ]
        },
        {
          "output_type": "stream",
          "name": "stderr",
          "text": [
            "100%|██████████| 28881/28881 [00:00<00:00, 1840604.35it/s]"
          ]
        },
        {
          "output_type": "stream",
          "name": "stdout",
          "text": [
            "Extracting ./data/MNIST/raw/train-labels-idx1-ubyte.gz to ./data/MNIST/raw\n",
            "\n",
            "Downloading http://yann.lecun.com/exdb/mnist/t10k-images-idx3-ubyte.gz\n"
          ]
        },
        {
          "output_type": "stream",
          "name": "stderr",
          "text": [
            "\n"
          ]
        },
        {
          "output_type": "stream",
          "name": "stdout",
          "text": [
            "Failed to download (trying next):\n",
            "HTTP Error 403: Forbidden\n",
            "\n",
            "Downloading https://ossci-datasets.s3.amazonaws.com/mnist/t10k-images-idx3-ubyte.gz\n",
            "Downloading https://ossci-datasets.s3.amazonaws.com/mnist/t10k-images-idx3-ubyte.gz to ./data/MNIST/raw/t10k-images-idx3-ubyte.gz\n"
          ]
        },
        {
          "output_type": "stream",
          "name": "stderr",
          "text": [
            "100%|██████████| 1648877/1648877 [00:00<00:00, 14132609.52it/s]\n"
          ]
        },
        {
          "output_type": "stream",
          "name": "stdout",
          "text": [
            "Extracting ./data/MNIST/raw/t10k-images-idx3-ubyte.gz to ./data/MNIST/raw\n",
            "\n",
            "Downloading http://yann.lecun.com/exdb/mnist/t10k-labels-idx1-ubyte.gz\n",
            "Failed to download (trying next):\n",
            "HTTP Error 403: Forbidden\n",
            "\n",
            "Downloading https://ossci-datasets.s3.amazonaws.com/mnist/t10k-labels-idx1-ubyte.gz\n",
            "Downloading https://ossci-datasets.s3.amazonaws.com/mnist/t10k-labels-idx1-ubyte.gz to ./data/MNIST/raw/t10k-labels-idx1-ubyte.gz\n"
          ]
        },
        {
          "output_type": "stream",
          "name": "stderr",
          "text": [
            "100%|██████████| 4542/4542 [00:00<00:00, 2839971.49it/s]"
          ]
        },
        {
          "output_type": "stream",
          "name": "stdout",
          "text": [
            "Extracting ./data/MNIST/raw/t10k-labels-idx1-ubyte.gz to ./data/MNIST/raw\n",
            "\n"
          ]
        },
        {
          "output_type": "stream",
          "name": "stderr",
          "text": [
            "\n"
          ]
        }
      ]
    },
    {
      "cell_type": "code",
      "source": [
        "print(\"number of training samples: \" + str(len(train_dataset)) + \"\\n\" +\n",
        "      \"number of testing samples: \" + str(len(test_dataset)))\n",
        "print(\"datatype of the 1st training sample: \", train_dataset[0][0].type())\n",
        "print(\"size of the 1st training sample: \", train_dataset[0][0].size())"
      ],
      "metadata": {
        "colab": {
          "base_uri": "https://localhost:8080/"
        },
        "collapsed": true,
        "id": "wIbu3afPIGnG",
        "outputId": "90b7792b-ace6-48b7-bafc-ef743711e4b2"
      },
      "execution_count": 3,
      "outputs": [
        {
          "output_type": "stream",
          "name": "stdout",
          "text": [
            "number of training samples: 60000\n",
            "number of testing samples: 10000\n",
            "datatype of the 1st training sample:  torch.FloatTensor\n",
            "size of the 1st training sample:  torch.Size([1, 28, 28])\n"
          ]
        }
      ]
    },
    {
      "cell_type": "code",
      "source": [
        "# check the label of first two training sample\n",
        "print(\"label of the first taining sample: \", train_dataset[0][1])\n",
        "print(\"label of the second taining sample: \", train_dataset[1][1])"
      ],
      "metadata": {
        "colab": {
          "base_uri": "https://localhost:8080/"
        },
        "id": "aqPEToV7IM6B",
        "outputId": "e5e32542-2772-481f-de07-d0c44f7c8501"
      },
      "execution_count": 4,
      "outputs": [
        {
          "output_type": "stream",
          "name": "stdout",
          "text": [
            "label of the first taining sample:  5\n",
            "label of the second taining sample:  0\n"
          ]
        }
      ]
    },
    {
      "cell_type": "code",
      "source": [
        "img_5 = train_dataset[0][0].numpy().reshape(28, 28)\n",
        "plt.imshow(img_5, cmap='gray')\n",
        "plt.show()"
      ],
      "metadata": {
        "colab": {
          "base_uri": "https://localhost:8080/",
          "height": 430
        },
        "id": "S9XO9494IQIY",
        "outputId": "3080540d-5bc3-4694-8748-5952acb552cf"
      },
      "execution_count": 5,
      "outputs": [
        {
          "output_type": "display_data",
          "data": {
            "text/plain": [
              "<Figure size 640x480 with 1 Axes>"
            ],
            "image/png": "[encoded data removed]"
          },
          "metadata": {}
        }
      ]
    },
    {
      "cell_type": "code",
      "source": [
        "img_0 = train_dataset[1][0].numpy().reshape(28, 28)\n",
        "plt.imshow(img_0, cmap='gray')\n",
        "plt.show()"
      ],
      "metadata": {
        "colab": {
          "base_uri": "https://localhost:8080/",
          "height": 430
        },
        "id": "DzpIksTIITzE",
        "outputId": "852aff53-379e-4a1a-8fdd-9dd5091fad2c"
      },
      "execution_count": 6,
      "outputs": [
        {
          "output_type": "display_data",
          "data": {
            "text/plain": [
              "<Figure size 640x480 with 1 Axes>"
            ],
            "image/png": "[encoded data removed]"
          },
          "metadata": {}
        }
      ]
    },
    {
      "cell_type": "code",
      "source": [
        "# load train and test data samples into dataloader\n",
        "batach_size = 32\n",
        "train_loader = DataLoader(dataset=train_dataset, batch_size=batach_size, shuffle=True)\n",
        "test_loader = DataLoader(dataset=test_dataset, batch_size=batach_size, shuffle=False)"
      ],
      "metadata": {
        "id": "6rvg0Qn7IWgu"
      },
      "execution_count": 7,
      "outputs": []
    },
    {
      "cell_type": "code",
      "source": [
        "# build custom module for logistic regression\n",
        "class LogisticRegression(torch.nn.Module):\n",
        "    # build the constructor\n",
        "    def __init__(self, n_inputs, n_outputs):\n",
        "        super().__init__()\n",
        "        self.linear = torch.nn.Linear(n_inputs, n_outputs)\n",
        "    # make predictions\n",
        "    def forward(self, x):\n",
        "        y_pred = torch.sigmoid(self.linear(x))\n",
        "        return y_pred"
      ],
      "metadata": {
        "id": "50z2gVnxIaDG"
      },
      "execution_count": 8,
      "outputs": []
    },
    {
      "cell_type": "code",
      "source": [
        "# instantiate the model\n",
        "n_inputs = 28*28 # makes a 1D vector of 784\n",
        "n_outputs = 10\n",
        "log_regr = LogisticRegression(n_inputs, n_outputs)"
      ],
      "metadata": {
        "id": "PZHGIWr2Ic2U"
      },
      "execution_count": 9,
      "outputs": []
    },
    {
      "cell_type": "code",
      "source": [
        "# defining the optimizer\n",
        "optimizer = torch.optim.SGD(log_regr.parameters(), lr=0.001)\n",
        "# defining Cross-Entropy loss\n",
        "criterion = torch.nn.CrossEntropyLoss()"
      ],
      "metadata": {
        "id": "2ju6enLzIgD3"
      },
      "execution_count": 10,
      "outputs": []
    },
    {
      "cell_type": "code",
      "source": [
        "epochs = 50\n",
        "Loss = []\n",
        "acc = []\n",
        "for epoch in range(epochs):\n",
        "    for i, (images, labels) in enumerate(train_loader):\n",
        "        optimizer.zero_grad()\n",
        "        outputs = log_regr(images.view(-1, 28*28))\n",
        "        loss = criterion(outputs, labels)\n",
        "        # Loss.append(loss.item())\n",
        "        loss.backward()\n",
        "        optimizer.step()\n",
        "    Loss.append(loss.item())\n",
        "    correct = 0\n",
        "    for images, labels in test_loader:\n",
        "        outputs = log_regr(images.view(-1, 28*28))\n",
        "        _, predicted = torch.max(outputs.data, 1)\n",
        "        correct += (predicted == labels).sum()\n",
        "    accuracy = 100 * (correct.item()) / len(test_dataset)\n",
        "    acc.append(accuracy)\n",
        "    print('Epoch: {}. Loss: {}. Accuracy: {}'.format(epoch, loss.item(), accuracy))"
      ],
      "metadata": {
        "colab": {
          "base_uri": "https://localhost:8080/"
        },
        "id": "FxVdENJqIinf",
        "outputId": "79d48adf-2ff2-4fe6-d237-6281f8cf7ca0"
      },
      "execution_count": 11,
      "outputs": [
        {
          "output_type": "stream",
          "name": "stdout",
          "text": [
            "Epoch: 0. Loss: 2.189429998397827. Accuracy: 60.11\n",
            "Epoch: 1. Loss: 2.1028201580047607. Accuracy: 74.73\n",
            "Epoch: 2. Loss: 2.038186550140381. Accuracy: 78.1\n",
            "Epoch: 3. Loss: 1.968820333480835. Accuracy: 80.02\n",
            "Epoch: 4. Loss: 1.9938174486160278. Accuracy: 80.89\n",
            "Epoch: 5. Loss: 1.912940502166748. Accuracy: 81.59\n",
            "Epoch: 6. Loss: 1.9149322509765625. Accuracy: 82.05\n",
            "Epoch: 7. Loss: 1.8615578413009644. Accuracy: 82.47\n",
            "Epoch: 8. Loss: 1.8966100215911865. Accuracy: 82.87\n",
            "Epoch: 9. Loss: 1.939441204071045. Accuracy: 83.09\n",
            "Epoch: 10. Loss: 1.8512250185012817. Accuracy: 83.28\n",
            "Epoch: 11. Loss: 1.8444185256958008. Accuracy: 83.46\n",
            "Epoch: 12. Loss: 1.8392763137817383. Accuracy: 83.69\n",
            "Epoch: 13. Loss: 1.776724934577942. Accuracy: 83.93\n",
            "Epoch: 14. Loss: 1.7847059965133667. Accuracy: 84.0\n",
            "Epoch: 15. Loss: 1.8040506839752197. Accuracy: 84.19\n",
            "Epoch: 16. Loss: 1.8217535018920898. Accuracy: 84.39\n",
            "Epoch: 17. Loss: 1.8448594808578491. Accuracy: 84.46\n",
            "Epoch: 18. Loss: 1.767122507095337. Accuracy: 84.54\n",
            "Epoch: 19. Loss: 1.820053219795227. Accuracy: 84.62\n",
            "Epoch: 20. Loss: 1.7268115282058716. Accuracy: 84.77\n",
            "Epoch: 21. Loss: 1.8355485200881958. Accuracy: 84.84\n",
            "Epoch: 22. Loss: 1.7465229034423828. Accuracy: 84.93\n",
            "Epoch: 23. Loss: 1.7361178398132324. Accuracy: 85.03\n",
            "Epoch: 24. Loss: 1.73830246925354. Accuracy: 85.11\n",
            "Epoch: 25. Loss: 1.7599411010742188. Accuracy: 85.2\n",
            "Epoch: 26. Loss: 1.7933859825134277. Accuracy: 85.25\n",
            "Epoch: 27. Loss: 1.6941121816635132. Accuracy: 85.34\n",
            "Epoch: 28. Loss: 1.7237348556518555. Accuracy: 85.46\n",
            "Epoch: 29. Loss: 1.7492538690567017. Accuracy: 85.49\n",
            "Epoch: 30. Loss: 1.6711630821228027. Accuracy: 85.58\n",
            "Epoch: 31. Loss: 1.7025247812271118. Accuracy: 85.65\n",
            "Epoch: 32. Loss: 1.756178379058838. Accuracy: 85.72\n",
            "Epoch: 33. Loss: 1.7727911472320557. Accuracy: 85.77\n",
            "Epoch: 34. Loss: 1.7767446041107178. Accuracy: 85.83\n",
            "Epoch: 35. Loss: 1.6758630275726318. Accuracy: 85.88\n",
            "Epoch: 36. Loss: 1.6812725067138672. Accuracy: 85.9\n",
            "Epoch: 37. Loss: 1.7421849966049194. Accuracy: 85.96\n",
            "Epoch: 38. Loss: 1.6685794591903687. Accuracy: 86.02\n",
            "Epoch: 39. Loss: 1.6892316341400146. Accuracy: 86.07\n",
            "Epoch: 40. Loss: 1.756313681602478. Accuracy: 86.1\n",
            "Epoch: 41. Loss: 1.731152892112732. Accuracy: 86.19\n",
            "Epoch: 42. Loss: 1.7281484603881836. Accuracy: 86.24\n",
            "Epoch: 43. Loss: 1.705127477645874. Accuracy: 86.3\n",
            "Epoch: 44. Loss: 1.6397974491119385. Accuracy: 86.34\n",
            "Epoch: 45. Loss: 1.6767154932022095. Accuracy: 86.38\n",
            "Epoch: 46. Loss: 1.70608651638031. Accuracy: 86.43\n",
            "Epoch: 47. Loss: 1.6799275875091553. Accuracy: 86.49\n",
            "Epoch: 48. Loss: 1.687418818473816. Accuracy: 86.51\n",
            "Epoch: 49. Loss: 1.6718709468841553. Accuracy: 86.57\n"
          ]
        }
      ]
    },
    {
      "cell_type": "code",
      "source": [
        "plt.plot(Loss)\n",
        "plt.xlabel(\"no. of epochs\")\n",
        "plt.ylabel(\"total loss\")\n",
        "plt.title(\"Loss\")\n",
        "plt.show()"
      ],
      "metadata": {
        "colab": {
          "base_uri": "https://localhost:8080/",
          "height": 472
        },
        "id": "uuVj1p5IJG8h",
        "outputId": "893a5fa1-fc8c-4bee-db7e-5721c623baf3"
      },
      "execution_count": 12,
      "outputs": [
        {
          "output_type": "display_data",
          "data": {
            "text/plain": [
              "<Figure size 640x480 with 1 Axes>"
            ],
            "image/png": "[encoded data removed]"
          },
          "metadata": {}
        }
      ]
    },
    {
      "cell_type": "code",
      "source": [
        "plt.plot(acc)\n",
        "plt.xlabel(\"no. of epochs\")\n",
        "plt.ylabel(\"total accuracy\")\n",
        "plt.title(\"Accuracy\")\n",
        "plt.show()"
      ],
      "metadata": {
        "colab": {
          "base_uri": "https://localhost:8080/",
          "height": 472
        },
        "id": "gtJol2rxJJku",
        "outputId": "28313655-5efe-40b0-cd32-7d164e6d05c4"
      },
      "execution_count": 13,
      "outputs": [
        {
          "output_type": "display_data",
          "data": {
            "text/plain": [
              "<Figure size 640x480 with 1 Axes>"
            ],
            "image/png": "[encoded data removed]"
          },
          "metadata": {}
        }
      ]
    }
  ]
}