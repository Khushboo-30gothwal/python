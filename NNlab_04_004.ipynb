{
  "nbformat": 4,
  "nbformat_minor": 0,
  "metadata": {
    "colab": {
      "provenance": []
    },
    "kernelspec": {
      "name": "python3",
      "display_name": "Python 3"
    },
    "language_info": {
      "name": "python"
    }
  },
  "cells": [
    {
      "cell_type": "code",
      "execution_count": 1,
      "metadata": {
        "id": "c3ehKru7MltC"
      },
      "outputs": [],
      "source": [
        "import torch\n",
        "import torchvision.transforms as transforms\n",
        "from torchvision import datasets\n",
        "from torch.utils.data import DataLoader\n",
        "import matplotlib.pyplot as plt"
      ]
    },
    {
      "cell_type": "code",
      "source": [
        "# Loading training and test data\n",
        "train_dataset = datasets.MNIST(root='./data', train=True, transform=transforms.ToTensor(), download=True)\n",
        "test_dataset = datasets.MNIST(root='./data', train=False, transform=transforms.ToTensor())"
      ],
      "metadata": {
        "collapsed": true,
        "colab": {
          "base_uri": "https://localhost:8080/"
        },
        "id": "wzkWjS3qM-ct",
        "outputId": "92fedff6-7aff-4b1e-9fb7-c0b7685b209b"
      },
      "execution_count": 2,
      "outputs": [
        {
          "output_type": "stream",
          "name": "stdout",
          "text": [
            "Downloading http://yann.lecun.com/exdb/mnist/train-images-idx3-ubyte.gz\n",
            "Failed to download (trying next):\n",
            "HTTP Error 403: Forbidden\n",
            "\n",
            "Downloading https://ossci-datasets.s3.amazonaws.com/mnist/train-images-idx3-ubyte.gz\n",
            "Downloading https://ossci-datasets.s3.amazonaws.com/mnist/train-images-idx3-ubyte.gz to ./data/MNIST/raw/train-images-idx3-ubyte.gz\n"
          ]
        },
        {
          "output_type": "stream",
          "name": "stderr",
          "text": [
            "100%|██████████| 9912422/9912422 [00:00<00:00, 73896479.59it/s]\n"
          ]
        },
        {
          "output_type": "stream",
          "name": "stdout",
          "text": [
            "Extracting ./data/MNIST/raw/train-images-idx3-ubyte.gz to ./data/MNIST/raw\n",
            "\n",
            "Downloading http://yann.lecun.com/exdb/mnist/train-labels-idx1-ubyte.gz\n",
            "Failed to download (trying next):\n",
            "HTTP Error 403: Forbidden\n",
            "\n",
            "Downloading https://ossci-datasets.s3.amazonaws.com/mnist/train-labels-idx1-ubyte.gz\n",
            "Downloading https://ossci-datasets.s3.amazonaws.com/mnist/train-labels-idx1-ubyte.gz to ./data/MNIST/raw/train-labels-idx1-ubyte.gz\n"
          ]
        },
        {
          "output_type": "stream",
          "name": "stderr",
          "text": [
            "100%|██████████| 28881/28881 [00:00<00:00, 37526547.03it/s]"
          ]
        },
        {
          "output_type": "stream",
          "name": "stdout",
          "text": [
            "Extracting ./data/MNIST/raw/train-labels-idx1-ubyte.gz to ./data/MNIST/raw\n",
            "\n",
            "Downloading http://yann.lecun.com/exdb/mnist/t10k-images-idx3-ubyte.gz\n"
          ]
        },
        {
          "output_type": "stream",
          "name": "stderr",
          "text": [
            "\n"
          ]
        },
        {
          "output_type": "stream",
          "name": "stdout",
          "text": [
            "Failed to download (trying next):\n",
            "HTTP Error 403: Forbidden\n",
            "\n",
            "Downloading https://ossci-datasets.s3.amazonaws.com/mnist/t10k-images-idx3-ubyte.gz\n",
            "Downloading https://ossci-datasets.s3.amazonaws.com/mnist/t10k-images-idx3-ubyte.gz to ./data/MNIST/raw/t10k-images-idx3-ubyte.gz\n"
          ]
        },
        {
          "output_type": "stream",
          "name": "stderr",
          "text": [
            "100%|██████████| 1648877/1648877 [00:00<00:00, 47300759.84it/s]"
          ]
        },
        {
          "output_type": "stream",
          "name": "stdout",
          "text": [
            "Extracting ./data/MNIST/raw/t10k-images-idx3-ubyte.gz to ./data/MNIST/raw\n"
          ]
        },
        {
          "output_type": "stream",
          "name": "stderr",
          "text": [
            "\n"
          ]
        },
        {
          "output_type": "stream",
          "name": "stdout",
          "text": [
            "\n",
            "Downloading http://yann.lecun.com/exdb/mnist/t10k-labels-idx1-ubyte.gz\n",
            "Failed to download (trying next):\n",
            "HTTP Error 403: Forbidden\n",
            "\n",
            "Downloading https://ossci-datasets.s3.amazonaws.com/mnist/t10k-labels-idx1-ubyte.gz\n",
            "Downloading https://ossci-datasets.s3.amazonaws.com/mnist/t10k-labels-idx1-ubyte.gz to ./data/MNIST/raw/t10k-labels-idx1-ubyte.gz\n"
          ]
        },
        {
          "output_type": "stream",
          "name": "stderr",
          "text": [
            "100%|██████████| 4542/4542 [00:00<00:00, 3883108.19it/s]"
          ]
        },
        {
          "output_type": "stream",
          "name": "stdout",
          "text": [
            "Extracting ./data/MNIST/raw/t10k-labels-idx1-ubyte.gz to ./data/MNIST/raw\n",
            "\n"
          ]
        },
        {
          "output_type": "stream",
          "name": "stderr",
          "text": [
            "\n"
          ]
        }
      ]
    },
    {
      "cell_type": "code",
      "source": [
        "# DataLoader\n",
        "batch_size = 32\n",
        "train_loader = DataLoader(dataset=train_dataset, batch_size=batch_size, shuffle=True)\n",
        "test_loader = DataLoader(dataset=test_dataset, batch_size=batch_size, shuffle=False)"
      ],
      "metadata": {
        "id": "6Dl86mWqNCk3"
      },
      "execution_count": 3,
      "outputs": []
    },
    {
      "cell_type": "code",
      "source": [
        "# Custom Logistic Regression model\n",
        "class LogisticRegression(torch.nn.Module):\n",
        "    def __init__(self, n_inputs, n_outputs):\n",
        "        super().__init__()\n",
        "        self.linear = torch.nn.Linear(n_inputs, n_outputs)\n",
        "\n",
        "    def forward(self, x):\n",
        "        y_pred = torch.sigmoid(self.linear(x))\n",
        "        return y_pred\n",
        "\n",
        "# Instantiate the model\n",
        "n_inputs = 28*28 # 1D vector of 784\n",
        "n_outputs = 10\n",
        "log_regr = LogisticRegression(n_inputs, n_outputs)"
      ],
      "metadata": {
        "id": "5uwuNytpNHmU"
      },
      "execution_count": 4,
      "outputs": []
    },
    {
      "cell_type": "code",
      "source": [
        "# Defining the loss function\n",
        "criterion = torch.nn.CrossEntropyLoss()"
      ],
      "metadata": {
        "id": "mzF7mk3wNMTX"
      },
      "execution_count": 5,
      "outputs": []
    },
    {
      "cell_type": "code",
      "source": [
        "# List of optimizers to test\n",
        "optimizers = {\n",
        "    'SGD': torch.optim.SGD(log_regr.parameters(), lr=0.001),\n",
        "    'Momentum': torch.optim.SGD(log_regr.parameters(), lr=0.001, momentum=0.9),\n",
        "    'AdaGrad': torch.optim.Adagrad(log_regr.parameters(), lr=0.001),\n",
        "    'Adam': torch.optim.Adam(log_regr.parameters(), lr=0.001)\n",
        "}"
      ],
      "metadata": {
        "id": "31kVXQaZNP3w"
      },
      "execution_count": 6,
      "outputs": []
    },
    {
      "cell_type": "code",
      "source": [
        "# Train the model with different optimizers\n",
        "epochs = 50\n",
        "\n",
        "for opt_name, optimizer in optimizers.items():\n",
        "    print(f\"\\nTraining with {opt_name} optimizer\")\n",
        "\n",
        "    Loss = []\n",
        "    acc = []\n",
        "\n",
        "    for epoch in range(epochs):\n",
        "        for i, (images, labels) in enumerate(train_loader):\n",
        "            optimizer.zero_grad()\n",
        "            outputs = log_regr(images.view(-1, 28*28))\n",
        "            loss = criterion(outputs, labels)\n",
        "            loss.backward()\n",
        "            optimizer.step()\n",
        "\n",
        "        Loss.append(loss.item())\n",
        "        correct = 0\n",
        "\n",
        "        for images, labels in test_loader:\n",
        "            outputs = log_regr(images.view(-1, 28*28))\n",
        "            _, predicted = torch.max(outputs.data, 1)\n",
        "            correct += (predicted == labels).sum()\n",
        "\n",
        "        accuracy = 100 * (correct.item()) / len(test_dataset)\n",
        "        acc.append(accuracy)\n",
        "        print(f'Epoch: {epoch}. Loss: {loss.item()}. Accuracy: {accuracy}%')"
      ],
      "metadata": {
        "colab": {
          "base_uri": "https://localhost:8080/"
        },
        "collapsed": true,
        "id": "TggV0QgKNSKO",
        "outputId": "f8cd4eb6-5746-4bf0-cad1-4af3c44df06f"
      },
      "execution_count": 7,
      "outputs": [
        {
          "output_type": "stream",
          "name": "stdout",
          "text": [
            "\n",
            "Training with SGD optimizer\n",
            "Epoch: 0. Loss: 2.1918063163757324. Accuracy: 64.76%\n",
            "Epoch: 1. Loss: 2.1053006649017334. Accuracy: 75.3%\n",
            "Epoch: 2. Loss: 2.0348498821258545. Accuracy: 78.39%\n",
            "Epoch: 3. Loss: 2.0013513565063477. Accuracy: 79.95%\n",
            "Epoch: 4. Loss: 1.9773964881896973. Accuracy: 80.84%\n",
            "Epoch: 5. Loss: 1.9273028373718262. Accuracy: 81.43%\n",
            "Epoch: 6. Loss: 1.9530742168426514. Accuracy: 81.95%\n",
            "Epoch: 7. Loss: 1.8481284379959106. Accuracy: 82.27%\n",
            "Epoch: 8. Loss: 1.8527781963348389. Accuracy: 82.62%\n",
            "Epoch: 9. Loss: 1.847160816192627. Accuracy: 82.9%\n",
            "Epoch: 10. Loss: 1.8505403995513916. Accuracy: 83.13%\n",
            "Epoch: 11. Loss: 1.796371579170227. Accuracy: 83.41%\n",
            "Epoch: 12. Loss: 1.7710593938827515. Accuracy: 83.55%\n",
            "Epoch: 13. Loss: 1.8304376602172852. Accuracy: 83.75%\n",
            "Epoch: 14. Loss: 1.746006965637207. Accuracy: 83.85%\n",
            "Epoch: 15. Loss: 1.7822597026824951. Accuracy: 84.0%\n",
            "Epoch: 16. Loss: 1.7820839881896973. Accuracy: 84.18%\n",
            "Epoch: 17. Loss: 1.8067660331726074. Accuracy: 84.23%\n",
            "Epoch: 18. Loss: 1.7667254209518433. Accuracy: 84.3%\n",
            "Epoch: 19. Loss: 1.7833012342453003. Accuracy: 84.49%\n",
            "Epoch: 20. Loss: 1.754879355430603. Accuracy: 84.65%\n",
            "Epoch: 21. Loss: 1.7794814109802246. Accuracy: 84.73%\n",
            "Epoch: 22. Loss: 1.7247501611709595. Accuracy: 84.79%\n",
            "Epoch: 23. Loss: 1.7320106029510498. Accuracy: 84.91%\n",
            "Epoch: 24. Loss: 1.7702423334121704. Accuracy: 85.0%\n",
            "Epoch: 25. Loss: 1.7544935941696167. Accuracy: 85.07%\n",
            "Epoch: 26. Loss: 1.7731115818023682. Accuracy: 85.14%\n",
            "Epoch: 27. Loss: 1.7397053241729736. Accuracy: 85.19%\n",
            "Epoch: 28. Loss: 1.686912178993225. Accuracy: 85.25%\n",
            "Epoch: 29. Loss: 1.7564165592193604. Accuracy: 85.3%\n",
            "Epoch: 30. Loss: 1.767712116241455. Accuracy: 85.38%\n",
            "Epoch: 31. Loss: 1.6907519102096558. Accuracy: 85.4%\n",
            "Epoch: 32. Loss: 1.6858577728271484. Accuracy: 85.44%\n",
            "Epoch: 33. Loss: 1.7075806856155396. Accuracy: 85.52%\n",
            "Epoch: 34. Loss: 1.652201771736145. Accuracy: 85.59%\n",
            "Epoch: 35. Loss: 1.654567837715149. Accuracy: 85.66%\n",
            "Epoch: 36. Loss: 1.736628532409668. Accuracy: 85.75%\n",
            "Epoch: 37. Loss: 1.740199327468872. Accuracy: 85.76%\n",
            "Epoch: 38. Loss: 1.7164663076400757. Accuracy: 85.85%\n",
            "Epoch: 39. Loss: 1.7276968955993652. Accuracy: 85.89%\n",
            "Epoch: 40. Loss: 1.7364473342895508. Accuracy: 86.04%\n",
            "Epoch: 41. Loss: 1.679466724395752. Accuracy: 86.08%\n",
            "Epoch: 42. Loss: 1.6974505186080933. Accuracy: 86.18%\n",
            "Epoch: 43. Loss: 1.7934085130691528. Accuracy: 86.21%\n",
            "Epoch: 44. Loss: 1.7172737121582031. Accuracy: 86.25%\n",
            "Epoch: 45. Loss: 1.665033221244812. Accuracy: 86.28%\n",
            "Epoch: 46. Loss: 1.695111632347107. Accuracy: 86.36%\n",
            "Epoch: 47. Loss: 1.655683994293213. Accuracy: 86.39%\n",
            "Epoch: 48. Loss: 1.6849359273910522. Accuracy: 86.44%\n",
            "Epoch: 49. Loss: 1.696925163269043. Accuracy: 86.45%\n",
            "\n",
            "Training with Momentum optimizer\n",
            "Epoch: 0. Loss: 1.6399118900299072. Accuracy: 86.79%\n",
            "Epoch: 1. Loss: 1.6241729259490967. Accuracy: 87.09%\n",
            "Epoch: 2. Loss: 1.5967135429382324. Accuracy: 87.35%\n",
            "Epoch: 3. Loss: 1.6499983072280884. Accuracy: 87.59%\n",
            "Epoch: 4. Loss: 1.617955207824707. Accuracy: 87.65%\n",
            "Epoch: 5. Loss: 1.7084850072860718. Accuracy: 87.74%\n",
            "Epoch: 6. Loss: 1.6635397672653198. Accuracy: 87.95%\n",
            "Epoch: 7. Loss: 1.6533414125442505. Accuracy: 87.96%\n",
            "Epoch: 8. Loss: 1.6336382627487183. Accuracy: 88.19%\n",
            "Epoch: 9. Loss: 1.5540814399719238. Accuracy: 88.22%\n",
            "Epoch: 10. Loss: 1.6512202024459839. Accuracy: 88.31%\n",
            "Epoch: 11. Loss: 1.6670221090316772. Accuracy: 88.33%\n",
            "Epoch: 12. Loss: 1.6619203090667725. Accuracy: 88.46%\n",
            "Epoch: 13. Loss: 1.6259241104125977. Accuracy: 88.47%\n",
            "Epoch: 14. Loss: 1.6252185106277466. Accuracy: 88.49%\n",
            "Epoch: 15. Loss: 1.5863523483276367. Accuracy: 88.57%\n",
            "Epoch: 16. Loss: 1.6289615631103516. Accuracy: 88.64%\n",
            "Epoch: 17. Loss: 1.624545931816101. Accuracy: 88.67%\n",
            "Epoch: 18. Loss: 1.569272756576538. Accuracy: 88.72%\n",
            "Epoch: 19. Loss: 1.6388366222381592. Accuracy: 88.79%\n",
            "Epoch: 20. Loss: 1.610216736793518. Accuracy: 88.83%\n",
            "Epoch: 21. Loss: 1.6307214498519897. Accuracy: 88.94%\n",
            "Epoch: 22. Loss: 1.6267496347427368. Accuracy: 88.94%\n",
            "Epoch: 23. Loss: 1.673195481300354. Accuracy: 88.99%\n",
            "Epoch: 24. Loss: 1.6262528896331787. Accuracy: 89.05%\n",
            "Epoch: 25. Loss: 1.6007508039474487. Accuracy: 89.06%\n",
            "Epoch: 26. Loss: 1.6013522148132324. Accuracy: 89.13%\n",
            "Epoch: 27. Loss: 1.6015762090682983. Accuracy: 89.2%\n",
            "Epoch: 28. Loss: 1.5811481475830078. Accuracy: 89.19%\n",
            "Epoch: 29. Loss: 1.585585117340088. Accuracy: 89.25%\n",
            "Epoch: 30. Loss: 1.611085295677185. Accuracy: 89.24%\n",
            "Epoch: 31. Loss: 1.6148808002471924. Accuracy: 89.31%\n",
            "Epoch: 32. Loss: 1.6174975633621216. Accuracy: 89.3%\n",
            "Epoch: 33. Loss: 1.6626482009887695. Accuracy: 89.37%\n",
            "Epoch: 34. Loss: 1.601906657218933. Accuracy: 89.38%\n",
            "Epoch: 35. Loss: 1.5777146816253662. Accuracy: 89.39%\n",
            "Epoch: 36. Loss: 1.5665442943572998. Accuracy: 89.46%\n",
            "Epoch: 37. Loss: 1.5832971334457397. Accuracy: 89.45%\n",
            "Epoch: 38. Loss: 1.6066986322402954. Accuracy: 89.51%\n",
            "Epoch: 39. Loss: 1.5318801403045654. Accuracy: 89.53%\n",
            "Epoch: 40. Loss: 1.6698611974716187. Accuracy: 89.52%\n",
            "Epoch: 41. Loss: 1.6468791961669922. Accuracy: 89.54%\n",
            "Epoch: 42. Loss: 1.6551952362060547. Accuracy: 89.59%\n",
            "Epoch: 43. Loss: 1.6971163749694824. Accuracy: 89.59%\n",
            "Epoch: 44. Loss: 1.5942882299423218. Accuracy: 89.68%\n",
            "Epoch: 45. Loss: 1.611271619796753. Accuracy: 89.67%\n",
            "Epoch: 46. Loss: 1.6235982179641724. Accuracy: 89.67%\n",
            "Epoch: 47. Loss: 1.5864675045013428. Accuracy: 89.71%\n",
            "Epoch: 48. Loss: 1.6077845096588135. Accuracy: 89.74%\n",
            "Epoch: 49. Loss: 1.6027156114578247. Accuracy: 89.75%\n",
            "\n",
            "Training with AdaGrad optimizer\n",
            "Epoch: 0. Loss: 1.6402196884155273. Accuracy: 89.9%\n",
            "Epoch: 1. Loss: 1.6295512914657593. Accuracy: 89.92%\n",
            "Epoch: 2. Loss: 1.6063172817230225. Accuracy: 89.91%\n",
            "Epoch: 3. Loss: 1.5502673387527466. Accuracy: 89.94%\n",
            "Epoch: 4. Loss: 1.628806710243225. Accuracy: 89.96%\n",
            "Epoch: 5. Loss: 1.594881296157837. Accuracy: 89.97%\n",
            "Epoch: 6. Loss: 1.5874477624893188. Accuracy: 89.98%\n",
            "Epoch: 7. Loss: 1.5737236738204956. Accuracy: 90.03%\n",
            "Epoch: 8. Loss: 1.6425411701202393. Accuracy: 90.03%\n",
            "Epoch: 9. Loss: 1.5761497020721436. Accuracy: 90.03%\n",
            "Epoch: 10. Loss: 1.5871586799621582. Accuracy: 90.04%\n",
            "Epoch: 11. Loss: 1.578015923500061. Accuracy: 90.06%\n",
            "Epoch: 12. Loss: 1.5904146432876587. Accuracy: 90.08%\n",
            "Epoch: 13. Loss: 1.6808784008026123. Accuracy: 90.09%\n",
            "Epoch: 14. Loss: 1.570662260055542. Accuracy: 90.1%\n",
            "Epoch: 15. Loss: 1.6421624422073364. Accuracy: 90.12%\n",
            "Epoch: 16. Loss: 1.5843697786331177. Accuracy: 90.11%\n",
            "Epoch: 17. Loss: 1.6047946214675903. Accuracy: 90.1%\n",
            "Epoch: 18. Loss: 1.5777621269226074. Accuracy: 90.09%\n",
            "Epoch: 19. Loss: 1.556460976600647. Accuracy: 90.09%\n",
            "Epoch: 20. Loss: 1.5855318307876587. Accuracy: 90.09%\n",
            "Epoch: 21. Loss: 1.5986770391464233. Accuracy: 90.09%\n",
            "Epoch: 22. Loss: 1.597426176071167. Accuracy: 90.09%\n",
            "Epoch: 23. Loss: 1.5758858919143677. Accuracy: 90.12%\n",
            "Epoch: 24. Loss: 1.5287410020828247. Accuracy: 90.12%\n",
            "Epoch: 25. Loss: 1.5967001914978027. Accuracy: 90.11%\n",
            "Epoch: 26. Loss: 1.6556189060211182. Accuracy: 90.13%\n",
            "Epoch: 27. Loss: 1.6149697303771973. Accuracy: 90.14%\n",
            "Epoch: 28. Loss: 1.5375034809112549. Accuracy: 90.14%\n",
            "Epoch: 29. Loss: 1.6258281469345093. Accuracy: 90.17%\n",
            "Epoch: 30. Loss: 1.629038691520691. Accuracy: 90.17%\n",
            "Epoch: 31. Loss: 1.6098953485488892. Accuracy: 90.17%\n",
            "Epoch: 32. Loss: 1.605211615562439. Accuracy: 90.17%\n",
            "Epoch: 33. Loss: 1.6380090713500977. Accuracy: 90.19%\n",
            "Epoch: 34. Loss: 1.55075204372406. Accuracy: 90.19%\n",
            "Epoch: 35. Loss: 1.5932140350341797. Accuracy: 90.19%\n",
            "Epoch: 36. Loss: 1.591690182685852. Accuracy: 90.19%\n",
            "Epoch: 37. Loss: 1.607552170753479. Accuracy: 90.19%\n",
            "Epoch: 38. Loss: 1.5593981742858887. Accuracy: 90.17%\n",
            "Epoch: 39. Loss: 1.6113289594650269. Accuracy: 90.17%\n",
            "Epoch: 40. Loss: 1.5450323820114136. Accuracy: 90.17%\n",
            "Epoch: 41. Loss: 1.5831712484359741. Accuracy: 90.17%\n",
            "Epoch: 42. Loss: 1.5992189645767212. Accuracy: 90.17%\n",
            "Epoch: 43. Loss: 1.6377408504486084. Accuracy: 90.17%\n",
            "Epoch: 44. Loss: 1.582822322845459. Accuracy: 90.17%\n",
            "Epoch: 45. Loss: 1.5623234510421753. Accuracy: 90.18%\n",
            "Epoch: 46. Loss: 1.5214344263076782. Accuracy: 90.18%\n",
            "Epoch: 47. Loss: 1.534039855003357. Accuracy: 90.19%\n",
            "Epoch: 48. Loss: 1.5724024772644043. Accuracy: 90.19%\n",
            "Epoch: 49. Loss: 1.5896039009094238. Accuracy: 90.2%\n",
            "\n",
            "Training with Adam optimizer\n",
            "Epoch: 0. Loss: 1.559238076210022. Accuracy: 90.93%\n",
            "Epoch: 1. Loss: 1.6457093954086304. Accuracy: 91.18%\n",
            "Epoch: 2. Loss: 1.6014171838760376. Accuracy: 91.26%\n",
            "Epoch: 3. Loss: 1.5059295892715454. Accuracy: 91.35%\n",
            "Epoch: 4. Loss: 1.5339176654815674. Accuracy: 91.56%\n",
            "Epoch: 5. Loss: 1.5818052291870117. Accuracy: 91.43%\n",
            "Epoch: 6. Loss: 1.5227023363113403. Accuracy: 91.57%\n",
            "Epoch: 7. Loss: 1.533873200416565. Accuracy: 91.51%\n",
            "Epoch: 8. Loss: 1.501560926437378. Accuracy: 91.53%\n",
            "Epoch: 9. Loss: 1.5965062379837036. Accuracy: 91.7%\n",
            "Epoch: 10. Loss: 1.6005281209945679. Accuracy: 91.7%\n",
            "Epoch: 11. Loss: 1.5533034801483154. Accuracy: 91.58%\n",
            "Epoch: 12. Loss: 1.5204718112945557. Accuracy: 91.77%\n",
            "Epoch: 13. Loss: 1.5063269138336182. Accuracy: 91.78%\n",
            "Epoch: 14. Loss: 1.4897640943527222. Accuracy: 91.76%\n",
            "Epoch: 15. Loss: 1.5503461360931396. Accuracy: 91.76%\n",
            "Epoch: 16. Loss: 1.615418791770935. Accuracy: 91.66%\n",
            "Epoch: 17. Loss: 1.5172648429870605. Accuracy: 91.83%\n",
            "Epoch: 18. Loss: 1.6270831823349. Accuracy: 91.85%\n",
            "Epoch: 19. Loss: 1.514282464981079. Accuracy: 91.84%\n",
            "Epoch: 20. Loss: 1.5559927225112915. Accuracy: 91.71%\n",
            "Epoch: 21. Loss: 1.5679948329925537. Accuracy: 91.9%\n",
            "Epoch: 22. Loss: 1.5454037189483643. Accuracy: 91.95%\n",
            "Epoch: 23. Loss: 1.522630214691162. Accuracy: 91.86%\n",
            "Epoch: 24. Loss: 1.575322151184082. Accuracy: 91.8%\n",
            "Epoch: 25. Loss: 1.5806636810302734. Accuracy: 91.81%\n",
            "Epoch: 26. Loss: 1.4938284158706665. Accuracy: 91.82%\n",
            "Epoch: 27. Loss: 1.5558570623397827. Accuracy: 91.89%\n",
            "Epoch: 28. Loss: 1.4982495307922363. Accuracy: 91.9%\n",
            "Epoch: 29. Loss: 1.4916490316390991. Accuracy: 91.87%\n",
            "Epoch: 30. Loss: 1.486525297164917. Accuracy: 91.83%\n",
            "Epoch: 31. Loss: 1.5672328472137451. Accuracy: 91.99%\n",
            "Epoch: 32. Loss: 1.5207407474517822. Accuracy: 91.91%\n",
            "Epoch: 33. Loss: 1.530024528503418. Accuracy: 91.85%\n",
            "Epoch: 34. Loss: 1.5576050281524658. Accuracy: 91.69%\n",
            "Epoch: 35. Loss: 1.52963387966156. Accuracy: 91.9%\n",
            "Epoch: 36. Loss: 1.5127923488616943. Accuracy: 91.92%\n",
            "Epoch: 37. Loss: 1.5088986158370972. Accuracy: 91.95%\n",
            "Epoch: 38. Loss: 1.5585054159164429. Accuracy: 92.01%\n",
            "Epoch: 39. Loss: 1.4843182563781738. Accuracy: 92.03%\n",
            "Epoch: 40. Loss: 1.523518681526184. Accuracy: 92.07%\n",
            "Epoch: 41. Loss: 1.585902214050293. Accuracy: 91.8%\n",
            "Epoch: 42. Loss: 1.4998184442520142. Accuracy: 92.04%\n",
            "Epoch: 43. Loss: 1.5065503120422363. Accuracy: 91.94%\n",
            "Epoch: 44. Loss: 1.567460536956787. Accuracy: 91.94%\n",
            "Epoch: 45. Loss: 1.5150026082992554. Accuracy: 91.89%\n",
            "Epoch: 46. Loss: 1.5520071983337402. Accuracy: 91.93%\n",
            "Epoch: 47. Loss: 1.577608585357666. Accuracy: 91.94%\n",
            "Epoch: 48. Loss: 1.6081045866012573. Accuracy: 91.86%\n",
            "Epoch: 49. Loss: 1.5982941389083862. Accuracy: 91.84%\n"
          ]
        }
      ]
    },
    {
      "cell_type": "code",
      "source": [
        " # Plotting loss and accuracy for the current optimizer\n",
        "plt.figure(figsize=(10, 4))\n",
        "\n",
        "plt.subplot(1, 2, 1)\n",
        "plt.plot(Loss)\n",
        "plt.xlabel(\"No. of Epochs\")\n",
        "plt.ylabel(\"Total Loss\")\n",
        "plt.title(f\"Loss - {opt_name}\")\n",
        "\n",
        "plt.subplot(1, 2, 2)\n",
        "plt.plot(acc)\n",
        "plt.xlabel(\"No. of Epochs\")\n",
        "plt.ylabel(\"Accuracy\")\n",
        "plt.title(f\"Accuracy - {opt_name}\")\n",
        "\n",
        "plt.show()"
      ],
      "metadata": {
        "colab": {
          "base_uri": "https://localhost:8080/",
          "height": 410
        },
        "id": "jj6o_fNNNadh",
        "outputId": "31374a1f-4188-4199-b61c-323be7f15510"
      },
      "execution_count": 16,
      "outputs": [
        {
          "output_type": "display_data",
          "data": {
            "text/plain": [
              "<Figure size 1000x400 with 2 Axes>"
            ],
            "image/png": "[encoded data removed]"
          },
          "metadata": {}
        }
      ]
    }
  ]
}